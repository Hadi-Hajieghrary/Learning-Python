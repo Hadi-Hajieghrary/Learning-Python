{
  "nbformat": 4,
  "nbformat_minor": 0,
  "metadata": {
    "colab": {
      "provenance": [],
      "collapsed_sections": [],
      "authorship_tag": "ABX9TyMxuuDcJh9PVJNYHvaMOY1f",
      "include_colab_link": true
    },
    "kernelspec": {
      "name": "python3",
      "display_name": "Python 3"
    },
    "language_info": {
      "name": "python"
    }
  },
  "cells": [
    {
      "cell_type": "markdown",
      "metadata": {
        "id": "view-in-github",
        "colab_type": "text"
      },
      "source": [
        "<a href=\"https://colab.research.google.com/github/Hadi-Hajieghrary/Learning-Python/blob/main/Learning_itertools.ipynb\" target=\"_parent\"><img src=\"https://colab.research.google.com/assets/colab-badge.svg\" alt=\"Open In Colab\"/></a>"
      ]
    },
    {
      "cell_type": "code",
      "execution_count": 40,
      "metadata": {
        "id": "nHRegF8_Fdn4"
      },
      "outputs": [],
      "source": [
        "from itertools import count\n",
        "from itertools import repeat\n",
        "from itertools import cycle\n",
        "from itertools import zip_longest"
      ]
    },
    {
      "cell_type": "code",
      "source": [
        "# implement itertools count\n",
        "def my_count(start = 0, step = 1):\n",
        "  i = start\n",
        "  while True:\n",
        "    yield i\n",
        "    i = i + step"
      ],
      "metadata": {
        "id": "7l59U7CjFyWR"
      },
      "execution_count": 33,
      "outputs": []
    },
    {
      "cell_type": "code",
      "source": [
        "counter = count(start = 10)\n",
        "my_counter = my_count(start = 10)\n",
        "\n",
        "print(next(counter))\n",
        "print(next(my_counter))\n",
        "print(\"\\n\")\n",
        "print(next(counter))\n",
        "print(next(my_counter))\n",
        "print(\"\\n\")\n",
        "for c in my_counter:\n",
        "  if c<15:\n",
        "    print(c)\n",
        "  else:\n",
        "    break\n",
        "# Counter (Generators Object) remembers its state"
      ],
      "metadata": {
        "colab": {
          "base_uri": "https://localhost:8080/"
        },
        "id": "T86_U6C5F5WD",
        "outputId": "0063dc2d-4e03-4fcb-c6b6-3be22667094f"
      },
      "execution_count": 34,
      "outputs": [
        {
          "output_type": "stream",
          "name": "stdout",
          "text": [
            "10\n",
            "10\n",
            "\n",
            "\n",
            "11\n",
            "11\n",
            "\n",
            "\n",
            "12\n",
            "13\n",
            "14\n"
          ]
        }
      ]
    },
    {
      "cell_type": "code",
      "source": [
        "# implement itertool repeat\n",
        "def my_repeat(arg):\n",
        "  while True:\n",
        "    yield(arg)\n"
      ],
      "metadata": {
        "id": "YF8pNJRlIP_J"
      },
      "execution_count": 35,
      "outputs": []
    },
    {
      "cell_type": "code",
      "source": [],
      "metadata": {
        "id": "kiB19CBkQwlI"
      },
      "execution_count": 35,
      "outputs": []
    },
    {
      "cell_type": "code",
      "source": [
        "my_repeater = my_repeat([1,2,3])\n",
        "repeater = repeat([1,2,3])\n",
        "i = 0\n",
        "for r in repeater:\n",
        "  print(r)\n",
        "  i = i+1\n",
        "  if (i==5):\n",
        "    break"
      ],
      "metadata": {
        "colab": {
          "base_uri": "https://localhost:8080/"
        },
        "id": "TWeG-0unMV1H",
        "outputId": "714f57f2-9363-4df1-eeef-271498ae4dbf"
      },
      "execution_count": 36,
      "outputs": [
        {
          "output_type": "stream",
          "name": "stdout",
          "text": [
            "[1, 2, 3]\n",
            "[1, 2, 3]\n",
            "[1, 2, 3]\n",
            "[1, 2, 3]\n",
            "[1, 2, 3]\n"
          ]
        }
      ]
    },
    {
      "cell_type": "code",
      "source": [
        "def my_cycle(iterable):\n",
        "  saved = []\n",
        "  for item in iterable:\n",
        "    saved.append(item)\n",
        "    yield item\n",
        "  while saved:\n",
        "    for item in saved:\n",
        "      yield item\n"
      ],
      "metadata": {
        "id": "4EHqUUyiNfV5"
      },
      "execution_count": 37,
      "outputs": []
    },
    {
      "cell_type": "code",
      "source": [
        "my_cycler = my_cycle([1,2,3,4])\n",
        "\n",
        "for i in range(10):\n",
        "  print(next(my_cycler))"
      ],
      "metadata": {
        "colab": {
          "base_uri": "https://localhost:8080/"
        },
        "id": "HHnNJ1KjQFTj",
        "outputId": "7415b0e9-7029-45ef-cfaa-4c18f73942b5"
      },
      "execution_count": 38,
      "outputs": [
        {
          "output_type": "stream",
          "name": "stdout",
          "text": [
            "1\n",
            "2\n",
            "3\n",
            "4\n",
            "1\n",
            "2\n",
            "3\n",
            "4\n",
            "1\n",
            "2\n"
          ]
        }
      ]
    },
    {
      "cell_type": "code",
      "source": [
        "colors = ['red', 'green', 'blue', 'purple', 'cyan', 'gray', 'black']\n",
        "my_counter = my_count(start = 0)\n",
        "color_map = dict(zip(colors, my_counter))\n",
        "print(color_map)"
      ],
      "metadata": {
        "colab": {
          "base_uri": "https://localhost:8080/"
        },
        "id": "5e_kkl39QtIa",
        "outputId": "fb625e03-bd22-4fba-f0e0-42da0cf77f3f"
      },
      "execution_count": 46,
      "outputs": [
        {
          "output_type": "stream",
          "name": "stdout",
          "text": [
            "{'red': 0, 'green': 1, 'blue': 2, 'purple': 3, 'cyan': 4, 'gray': 5, 'black': 6}\n"
          ]
        }
      ]
    },
    {
      "cell_type": "code",
      "source": [],
      "metadata": {
        "id": "YHnSQw6Odq0Q"
      },
      "execution_count": null,
      "outputs": []
    },
    {
      "cell_type": "code",
      "source": [],
      "metadata": {
        "id": "Si9cI2v2QhGs"
      },
      "execution_count": 38,
      "outputs": []
    }
  ]
}